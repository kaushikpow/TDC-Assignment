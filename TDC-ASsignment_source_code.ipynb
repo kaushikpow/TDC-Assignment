{
 "cells": [
  {
   "cell_type": "code",
   "execution_count": 1,
   "id": "43d245fd",
   "metadata": {},
   "outputs": [],
   "source": [
    "//master node code\n",
    "import numpy as np\n",
    "from PIL import Image\n",
    "\n",
    "class MasterNode:\n",
    "    def __init__(self, num_worker_nodes):\n",
    "        self.num_worker_nodes = num_worker_nodes\n",
    "        self.comm = CommunicationProtocol()  # Choose a communication protocol here\n",
    "    \n",
    "    def process_image(self, input_image_path):\n",
    "        # Load the input image\n",
    "        input_image = Image.open(input_image_path)\n",
    "        width, height = input_image.size\n",
    "        \n",
    "        # Divide the input image into smaller chunks\n",
    "        chunk_width = width // self.num_worker_nodes\n",
    "        chunk_height = height\n",
    "        input_chunks = []\n",
    "        for i in range(self.num_worker_nodes):\n",
    "            chunk = input_image.crop((i * chunk_width, 0, (i + 1) * chunk_width, chunk_height))\n",
    "            input_chunks.append(chunk)\n",
    "        \n",
    "        # Distribute the chunks to the worker nodes\n",
    "        for i, chunk in enumerate(input_chunks):\n",
    "            self.comm.send(i, chunk)\n",
    "        \n",
    "        # Collect the processed chunks from the worker nodes\n",
    "        output_chunks = []\n",
    "        for i in range(self.num_worker_nodes):\n",
    "            chunk = self.comm.receive(i)\n",
    "            output_chunks.append(chunk)\n",
    "        \n",
    "        # Reassemble the output chunks into a single image\n",
    "        output_image = Image.new('RGB', (width, height))\n",
    "        for i, chunk in enumerate(output_chunks):\n",
    "            output_image.paste(chunk, (i * chunk_width, 0))\n",
    "        \n",
    "        return output_image"
   ]
  },
  {
   "cell_type": "code",
   "execution_count": 2,
   "id": "9aeac6bd",
   "metadata": {},
   "outputs": [],
   "source": [
    "//worker node code\n",
    "import numpy as np\n",
    "from PIL import Image\n",
    "from skimage.filters import sobel\n",
    "\n",
    "class WorkerNode:\n",
    "    def __init__(self):\n",
    "        self.comm = CommunicationProtocol()  # Choose a communication protocol here\n",
    "    \n",
    "    def process_chunk(self):\n",
    "        # Receive a chunk of the input image from the master node\n",
    "        chunk = self.comm.receive()\n",
    "        \n",
    "        # Convert the image to grayscale and apply the Sobel edge detection filter\n",
    "        img_array = np.array(chunk)\n",
    "        img_array = np.mean(img_array, axis=2)  # Convert to grayscale\n",
    "        img_array = sobel(img_array)\n",
    "        \n",
    "        # Convert the image back to a PIL Image object and return it\n",
    "        processed_chunk = Image.fromarray(img_array)\n",
    "        return processed_chunk"
   ]
  },
  {
   "cell_type": "code",
   "execution_count": 3,
   "id": "1072d1ed",
   "metadata": {},
   "outputs": [
    {
     "ename": "ValueError",
     "evalue": "invalid literal for int() with base 10: 'C:\\\\Users\\\\kaush\\\\AppData\\\\Roaming\\\\jupyter\\\\runtime\\\\kernel-257ca195-2372-4a82-b135-63502fc25866.json'",
     "output_type": "error",
     "traceback": [
      "\u001b[1;31m---------------------------------------------------------------------------\u001b[0m",
      "\u001b[1;31mValueError\u001b[0m                                Traceback (most recent call last)",
      "\u001b[1;32m~\\AppData\\Local\\Temp/ipykernel_108832/2566172878.py\u001b[0m in \u001b[0;36m<module>\u001b[1;34m\u001b[0m\n\u001b[0;32m      8\u001b[0m \u001b[1;33m\u001b[0m\u001b[0m\n\u001b[0;32m      9\u001b[0m     \u001b[0minput_image_path\u001b[0m \u001b[1;33m=\u001b[0m \u001b[0msys\u001b[0m\u001b[1;33m.\u001b[0m\u001b[0margv\u001b[0m\u001b[1;33m[\u001b[0m\u001b[1;36m1\u001b[0m\u001b[1;33m]\u001b[0m\u001b[1;33m\u001b[0m\u001b[1;33m\u001b[0m\u001b[0m\n\u001b[1;32m---> 10\u001b[1;33m     \u001b[0mnum_worker_nodes\u001b[0m \u001b[1;33m=\u001b[0m \u001b[0mint\u001b[0m\u001b[1;33m(\u001b[0m\u001b[0msys\u001b[0m\u001b[1;33m.\u001b[0m\u001b[0margv\u001b[0m\u001b[1;33m[\u001b[0m\u001b[1;36m2\u001b[0m\u001b[1;33m]\u001b[0m\u001b[1;33m)\u001b[0m\u001b[1;33m\u001b[0m\u001b[1;33m\u001b[0m\u001b[0m\n\u001b[0m\u001b[0;32m     11\u001b[0m \u001b[1;33m\u001b[0m\u001b[0m\n\u001b[0;32m     12\u001b[0m     \u001b[0mmaster_node\u001b[0m \u001b[1;33m=\u001b[0m \u001b[0mMasterNode\u001b[0m\u001b[1;33m(\u001b[0m\u001b[0mnum_worker_nodes\u001b[0m\u001b[1;33m)\u001b[0m\u001b[1;33m\u001b[0m\u001b[1;33m\u001b[0m\u001b[0m\n",
      "\u001b[1;31mValueError\u001b[0m: invalid literal for int() with base 10: 'C:\\\\Users\\\\kaush\\\\AppData\\\\Roaming\\\\jupyter\\\\runtime\\\\kernel-257ca195-2372-4a82-b135-63502fc25866.json'"
     ]
    }
   ],
   "source": [
    "// client code\n",
    "import sys\n",
    "from PIL import Image\n",
    "\n",
    "if __name__ == '__main__':\n",
    "    if len(sys.argv) != 3:\n",
    "        print('Usage: python client.py <input_image> <num_worker_nodes>')\n",
    "        sys.exit(1)\n",
    "    \n",
    "    input_image_path = sys.argv[1]\n",
    "    num_worker_nodes = int(sys.argv[2])\n",
    "    \n",
    "    master_node = MasterNode(num_worker_nodes)\n",
    "    output_image = master_node.process_image(input_image_path)\n",
    "    output_image.show()"
   ]
  },
  {
   "cell_type": "code",
   "execution_count": 4,
   "id": "1df1a952",
   "metadata": {},
   "outputs": [],
   "source": [
    "class CommunicationProtocol:\n",
    "    def __init__(self):\n",
    "        self.worker_nodes = {}  # Dictionary to store the addresses of the worker nodes\n",
    "    \n",
    "    def connect(self, worker_id, address):\n",
    "        \"\"\"\n",
    "        Connect to a worker node with the given ID and address.\n",
    "        \"\"\"\n",
    "        self.worker_nodes[worker_id] = address\n",
    "    \n",
    "    def send(self, worker_id, data):\n",
    "        \"\"\"\n",
    "        Send data to the worker node with the given ID.\n",
    "        \"\"\"\n",
    "        address = self.worker_nodes[worker_id]\n",
    "        # Use a socket or other communication mechanism to send the data to the specified address\n",
    "    \n",
    "    def receive(self, worker_id):\n",
    "        \"\"\"\n",
    "        Receive data from the worker node with the given ID.\n",
    "        \"\"\"\n",
    "        address = self.worker_nodes[worker_id]\n",
    "        # Use a socket or other communication mechanism to receive data from the specified address"
   ]
  },
  {
   "cell_type": "code",
   "execution_count": null,
   "id": "854decad",
   "metadata": {},
   "outputs": [],
   "source": []
  }
 ],
 "metadata": {
  "kernelspec": {
   "display_name": "Python 3 (ipykernel)",
   "language": "python",
   "name": "python3"
  },
  "language_info": {
   "codemirror_mode": {
    "name": "ipython",
    "version": 3
   },
   "file_extension": ".py",
   "mimetype": "text/x-python",
   "name": "python",
   "nbconvert_exporter": "python",
   "pygments_lexer": "ipython3",
   "version": "3.9.7"
  }
 },
 "nbformat": 4,
 "nbformat_minor": 5
}
